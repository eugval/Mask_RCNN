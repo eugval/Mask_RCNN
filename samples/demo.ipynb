{
 "cells": [
  {
   "cell_type": "markdown",
   "metadata": {},
   "source": [
    "# Mask R-CNN Demo\n",
    "\n",
    "A quick intro to using the pre-trained model to detect and segment objects."
   ]
  },
  {
   "cell_type": "code",
   "execution_count": 48,
   "metadata": {},
   "outputs": [
    {
     "name": "stdout",
     "output_type": "stream",
     "text": [
      "The autoreload extension is already loaded. To reload it, use:\n",
      "  %reload_ext autoreload\n"
     ]
    }
   ],
   "source": [
    "%load_ext autoreload\n",
    "%autoreload 2\n",
    "%matplotlib inline\n",
    "import os\n",
    "import sys\n",
    "import random\n",
    "import math\n",
    "import numpy as np\n",
    "import skimage.io\n",
    "import matplotlib\n",
    "import matplotlib.pyplot as plt\n",
    "import h5py\n",
    "\n",
    "# Root directory of the project\n",
    "ROOT_DIR = os.path.abspath(\"../\")\n",
    "\n",
    "# Import Mask RCNN\n",
    "sys.path.append(ROOT_DIR)  # To find local version of the library\n",
    "from mrcnn import utils\n",
    "import mrcnn.model as modellib\n",
    "from mrcnn import visualize\n",
    "from new_functions import visualize2\n",
    "\n",
    "# Import COCO config\n",
    "sys.path.append(os.path.join(ROOT_DIR, \"samples/coco/\"))  # To find local version\n",
    "import coco\n",
    "\n",
    "%matplotlib inline \n",
    "\n",
    "# Directory to save logs and trained model\n",
    "MODEL_DIR = os.path.join(ROOT_DIR, \"logs\")\n",
    "\n",
    "# Local path to trained weights file\n",
    "COCO_MODEL_PATH = os.path.join(ROOT_DIR, \"mask_rcnn_coco.h5\")\n",
    "# Download COCO trained weights from Releases if needed\n",
    "if not os.path.exists(COCO_MODEL_PATH):\n",
    "    utils.download_trained_weights(COCO_MODEL_PATH)\n",
    "\n",
    "# Directory of images to run detection on\n",
    "IMAGE_DIR = os.path.join(ROOT_DIR, \"../../../Data/Raw/30SLight2\") #images"
   ]
  },
  {
   "cell_type": "code",
   "execution_count": 17,
   "metadata": {},
   "outputs": [
    {
     "name": "stdout",
     "output_type": "stream",
     "text": [
      "/Users/Tjoun/UCL/Dissertation/Motion_Prediction/src/MITMaskRCNN/Mask_RCNN\n",
      "/Users/Tjoun/UCL/Dissertation/Motion_Prediction/src/MITMaskRCNN/Mask_RCNN/../../../Data/Raw/30SLight1\n"
     ]
    }
   ],
   "source": [
    "print(ROOT_DIR)\n",
    "print(IMAGE_DIR)\n"
   ]
  },
  {
   "cell_type": "markdown",
   "metadata": {},
   "source": [
    "## Configurations\n",
    "\n",
    "We'll be using a model trained on the MS-COCO dataset. The configurations of this model are in the ```CocoConfig``` class in ```coco.py```.\n",
    "\n",
    "For inferencing, modify the configurations a bit to fit the task. To do so, sub-class the ```CocoConfig``` class and override the attributes you need to change."
   ]
  },
  {
   "cell_type": "code",
   "execution_count": 3,
   "metadata": {},
   "outputs": [
    {
     "name": "stdout",
     "output_type": "stream",
     "text": [
      "\n",
      "Configurations:\n",
      "BACKBONE                       resnet101\n",
      "BACKBONE_STRIDES               [4, 8, 16, 32, 64]\n",
      "BATCH_SIZE                     1\n",
      "BBOX_STD_DEV                   [ 0.1  0.1  0.2  0.2]\n",
      "COMPUTE_BACKBONE_SHAPE         None\n",
      "DETECTION_MAX_INSTANCES        100\n",
      "DETECTION_MIN_CONFIDENCE       0.7\n",
      "DETECTION_NMS_THRESHOLD        0.3\n",
      "FPN_CLASSIF_FC_LAYERS_SIZE     1024\n",
      "GPU_COUNT                      1\n",
      "GRADIENT_CLIP_NORM             5.0\n",
      "IMAGES_PER_GPU                 1\n",
      "IMAGE_MAX_DIM                  1024\n",
      "IMAGE_META_SIZE                93\n",
      "IMAGE_MIN_DIM                  800\n",
      "IMAGE_MIN_SCALE                0\n",
      "IMAGE_RESIZE_MODE              square\n",
      "IMAGE_SHAPE                    [1024 1024    3]\n",
      "LEARNING_MOMENTUM              0.9\n",
      "LEARNING_RATE                  0.001\n",
      "LOSS_WEIGHTS                   {'rpn_class_loss': 1.0, 'rpn_bbox_loss': 1.0, 'mrcnn_class_loss': 1.0, 'mrcnn_bbox_loss': 1.0, 'mrcnn_mask_loss': 1.0}\n",
      "MASK_POOL_SIZE                 14\n",
      "MASK_SHAPE                     [28, 28]\n",
      "MAX_GT_INSTANCES               100\n",
      "MEAN_PIXEL                     [ 123.7  116.8  103.9]\n",
      "MINI_MASK_SHAPE                (56, 56)\n",
      "NAME                           coco\n",
      "NUM_CLASSES                    81\n",
      "POOL_SIZE                      7\n",
      "POST_NMS_ROIS_INFERENCE        1000\n",
      "POST_NMS_ROIS_TRAINING         2000\n",
      "ROI_POSITIVE_RATIO             0.33\n",
      "RPN_ANCHOR_RATIOS              [0.5, 1, 2]\n",
      "RPN_ANCHOR_SCALES              (32, 64, 128, 256, 512)\n",
      "RPN_ANCHOR_STRIDE              1\n",
      "RPN_BBOX_STD_DEV               [ 0.1  0.1  0.2  0.2]\n",
      "RPN_NMS_THRESHOLD              0.7\n",
      "RPN_TRAIN_ANCHORS_PER_IMAGE    256\n",
      "STEPS_PER_EPOCH                1000\n",
      "TOP_DOWN_PYRAMID_SIZE          256\n",
      "TRAIN_BN                       False\n",
      "TRAIN_ROIS_PER_IMAGE           200\n",
      "USE_MINI_MASK                  True\n",
      "USE_RPN_ROIS                   True\n",
      "VALIDATION_STEPS               50\n",
      "WEIGHT_DECAY                   0.0001\n",
      "\n",
      "\n"
     ]
    }
   ],
   "source": [
    "class InferenceConfig(coco.CocoConfig):\n",
    "    # Set batch size to 1 since we'll be running inference on\n",
    "    # one image at a time. Batch size = GPU_COUNT * IMAGES_PER_GPU\n",
    "    GPU_COUNT = 1\n",
    "    IMAGES_PER_GPU = 1\n",
    "\n",
    "config = InferenceConfig()\n",
    "config.display()"
   ]
  },
  {
   "cell_type": "markdown",
   "metadata": {},
   "source": [
    "## Create Model and Load Trained Weights"
   ]
  },
  {
   "cell_type": "code",
   "execution_count": 4,
   "metadata": {
    "scrolled": true
   },
   "outputs": [],
   "source": [
    "# Create model object in inference mode.\n",
    "model = modellib.MaskRCNN(mode=\"inference\", model_dir=MODEL_DIR, config=config)\n",
    "\n",
    "# Load weights trained on MS-COCO\n",
    "model.load_weights(COCO_MODEL_PATH, by_name=True)"
   ]
  },
  {
   "cell_type": "markdown",
   "metadata": {},
   "source": [
    "## Class Names\n",
    "\n",
    "The model classifies objects and returns class IDs, which are integer value that identify each class. Some datasets assign integer values to their classes and some don't. For example, in the MS-COCO dataset, the 'person' class is 1 and 'teddy bear' is 88. The IDs are often sequential, but not always. The COCO dataset, for example, has classes associated with class IDs 70 and 72, but not 71.\n",
    "\n",
    "To improve consistency, and to support training on data from multiple sources at the same time, our ```Dataset``` class assigns it's own sequential integer IDs to each class. For example, if you load the COCO dataset using our ```Dataset``` class, the 'person' class would get class ID = 1 (just like COCO) and the 'teddy bear' class is 78 (different from COCO). Keep that in mind when mapping class IDs to class names.\n",
    "\n",
    "To get the list of class names, you'd load the dataset and then use the ```class_names``` property like this.\n",
    "```\n",
    "# Load COCO dataset\n",
    "dataset = coco.CocoDataset()\n",
    "dataset.load_coco(COCO_DIR, \"train\")\n",
    "dataset.prepare()\n",
    "\n",
    "# Print class names\n",
    "print(dataset.class_names)\n",
    "```\n",
    "\n",
    "We don't want to require you to download the COCO dataset just to run this demo, so we're including the list of class names below. The index of the class name in the list represent its ID (first class is 0, second is 1, third is 2, ...etc.)"
   ]
  },
  {
   "cell_type": "code",
   "execution_count": 43,
   "metadata": {},
   "outputs": [],
   "source": [
    "# COCO Class names\n",
    "# Index of the class in the list is its ID. For example, to get ID of\n",
    "# the teddy bear class, use: class_names.index('teddy bear')\n",
    "class_names = ['BG', 'person', 'bicycle', 'car', 'motorcycle', 'airplane',\n",
    "               'bus', 'train', 'truck', 'boat', 'traffic light',\n",
    "               'fire hydrant', 'stop sign', 'parking meter', 'bench', 'bird',\n",
    "               'cat', 'dog', 'horse', 'sheep', 'cow', 'elephant', 'bear',\n",
    "               'zebra', 'giraffe', 'backpack', 'umbrella', 'handbag', 'tie',\n",
    "               'suitcase', 'frisbee', 'skis', 'snowboard', 'sports ball',\n",
    "               'kite', 'baseball bat', 'baseball glove', 'skateboard',\n",
    "               'surfboard', 'tennis racket', 'bottle', 'wine glass', 'cup',\n",
    "               'fork', 'knife', 'spoon', 'bowl', 'banana', 'apple',\n",
    "               'sandwich', 'orange', 'broccoli', 'carrot', 'hot dog', 'pizza',\n",
    "               'donut', 'cake', 'chair', 'couch', 'potted plant', 'bed',\n",
    "               'dining table', 'toilet', 'tv', 'laptop', 'mouse', 'remote',\n",
    "               'keyboard', 'cell phone', 'microwave', 'oven', 'toaster',\n",
    "               'sink', 'refrigerator', 'book', 'clock', 'vase', 'scissors',\n",
    "               'teddy bear', 'hair drier', 'toothbrush']"
   ]
  },
  {
   "cell_type": "markdown",
   "metadata": {},
   "source": [
    "## Run Object Detection"
   ]
  },
  {
   "cell_type": "code",
   "execution_count": 9,
   "metadata": {
    "scrolled": false
   },
   "outputs": [
    {
     "name": "stderr",
     "output_type": "stream",
     "text": [
      "/Library/Frameworks/Python.framework/Versions/3.6/lib/python3.6/site-packages/skimage/transform/_warps.py:110: UserWarning: Anti-aliasing will be enabled by default in skimage 0.15 to avoid aliasing artifacts when down-sampling images.\n",
      "  warn(\"Anti-aliasing will be enabled by default in skimage 0.15 to \"\n"
     ]
    },
    {
     "name": "stdout",
     "output_type": "stream",
     "text": [
      "(540, 930, 3)\n",
      "dict_keys(['rois', 'class_ids', 'scores', 'masks'])\n"
     ]
    },
    {
     "ename": "OSError",
     "evalue": "Unable to create file (unable to open file: name = '/Users/Tjoun/UCL/Dissertation/Motion_Prediction/src/MITMaskRCNN/Mask_RCNN/../../Data/mytestfile.hdf5', errno = 2, error message = 'No such file or directory', flags = 13, o_flags = 602)",
     "output_type": "error",
     "traceback": [
      "\u001b[0;31m---------------------------------------------------------------------------\u001b[0m",
      "\u001b[0;31mOSError\u001b[0m                                   Traceback (most recent call last)",
      "\u001b[0;32m<ipython-input-9-ee7cbb8e148c>\u001b[0m in \u001b[0;36m<module>\u001b[0;34m()\u001b[0m\n\u001b[1;32m     15\u001b[0m \u001b[0msave_path\u001b[0m \u001b[0;34m=\u001b[0m \u001b[0mos\u001b[0m\u001b[0;34m.\u001b[0m\u001b[0mpath\u001b[0m\u001b[0;34m.\u001b[0m\u001b[0mjoin\u001b[0m\u001b[0;34m(\u001b[0m\u001b[0mROOT_DIR\u001b[0m\u001b[0;34m,\u001b[0m \u001b[0;34m\"../../Data/\"\u001b[0m\u001b[0;34m)\u001b[0m\u001b[0;34m\u001b[0m\u001b[0m\n\u001b[1;32m     16\u001b[0m \u001b[0;34m\u001b[0m\u001b[0m\n\u001b[0;32m---> 17\u001b[0;31m \u001b[0mf\u001b[0m \u001b[0;34m=\u001b[0m \u001b[0mh5py\u001b[0m\u001b[0;34m.\u001b[0m\u001b[0mFile\u001b[0m\u001b[0;34m(\u001b[0m\u001b[0;34m\"{}mytestfile.hdf5\"\u001b[0m\u001b[0;34m.\u001b[0m\u001b[0mformat\u001b[0m\u001b[0;34m(\u001b[0m\u001b[0msave_path\u001b[0m\u001b[0;34m)\u001b[0m\u001b[0;34m,\u001b[0m \u001b[0;34m\"w\"\u001b[0m\u001b[0;34m)\u001b[0m\u001b[0;34m\u001b[0m\u001b[0m\n\u001b[0m\u001b[1;32m     18\u001b[0m \u001b[0;32mfor\u001b[0m \u001b[0mk\u001b[0m\u001b[0;34m,\u001b[0m\u001b[0mv\u001b[0m \u001b[0;32min\u001b[0m \u001b[0mr\u001b[0m\u001b[0;34m.\u001b[0m\u001b[0mitems\u001b[0m\u001b[0;34m(\u001b[0m\u001b[0;34m)\u001b[0m\u001b[0;34m:\u001b[0m\u001b[0;34m\u001b[0m\u001b[0m\n\u001b[1;32m     19\u001b[0m     \u001b[0mprint\u001b[0m\u001b[0;34m(\u001b[0m\u001b[0mk\u001b[0m\u001b[0;34m)\u001b[0m\u001b[0;34m\u001b[0m\u001b[0m\n",
      "\u001b[0;32m/Library/Frameworks/Python.framework/Versions/3.6/lib/python3.6/site-packages/h5py/_hl/files.py\u001b[0m in \u001b[0;36m__init__\u001b[0;34m(self, name, mode, driver, libver, userblock_size, swmr, **kwds)\u001b[0m\n\u001b[1;32m    310\u001b[0m             \u001b[0;32mwith\u001b[0m \u001b[0mphil\u001b[0m\u001b[0;34m:\u001b[0m\u001b[0;34m\u001b[0m\u001b[0m\n\u001b[1;32m    311\u001b[0m                 \u001b[0mfapl\u001b[0m \u001b[0;34m=\u001b[0m \u001b[0mmake_fapl\u001b[0m\u001b[0;34m(\u001b[0m\u001b[0mdriver\u001b[0m\u001b[0;34m,\u001b[0m \u001b[0mlibver\u001b[0m\u001b[0;34m,\u001b[0m \u001b[0;34m**\u001b[0m\u001b[0mkwds\u001b[0m\u001b[0;34m)\u001b[0m\u001b[0;34m\u001b[0m\u001b[0m\n\u001b[0;32m--> 312\u001b[0;31m                 \u001b[0mfid\u001b[0m \u001b[0;34m=\u001b[0m \u001b[0mmake_fid\u001b[0m\u001b[0;34m(\u001b[0m\u001b[0mname\u001b[0m\u001b[0;34m,\u001b[0m \u001b[0mmode\u001b[0m\u001b[0;34m,\u001b[0m \u001b[0muserblock_size\u001b[0m\u001b[0;34m,\u001b[0m \u001b[0mfapl\u001b[0m\u001b[0;34m,\u001b[0m \u001b[0mswmr\u001b[0m\u001b[0;34m=\u001b[0m\u001b[0mswmr\u001b[0m\u001b[0;34m)\u001b[0m\u001b[0;34m\u001b[0m\u001b[0m\n\u001b[0m\u001b[1;32m    313\u001b[0m \u001b[0;34m\u001b[0m\u001b[0m\n\u001b[1;32m    314\u001b[0m                 \u001b[0;32mif\u001b[0m \u001b[0mswmr_support\u001b[0m\u001b[0;34m:\u001b[0m\u001b[0;34m\u001b[0m\u001b[0m\n",
      "\u001b[0;32m/Library/Frameworks/Python.framework/Versions/3.6/lib/python3.6/site-packages/h5py/_hl/files.py\u001b[0m in \u001b[0;36mmake_fid\u001b[0;34m(name, mode, userblock_size, fapl, fcpl, swmr)\u001b[0m\n\u001b[1;32m    146\u001b[0m         \u001b[0mfid\u001b[0m \u001b[0;34m=\u001b[0m \u001b[0mh5f\u001b[0m\u001b[0;34m.\u001b[0m\u001b[0mcreate\u001b[0m\u001b[0;34m(\u001b[0m\u001b[0mname\u001b[0m\u001b[0;34m,\u001b[0m \u001b[0mh5f\u001b[0m\u001b[0;34m.\u001b[0m\u001b[0mACC_EXCL\u001b[0m\u001b[0;34m,\u001b[0m \u001b[0mfapl\u001b[0m\u001b[0;34m=\u001b[0m\u001b[0mfapl\u001b[0m\u001b[0;34m,\u001b[0m \u001b[0mfcpl\u001b[0m\u001b[0;34m=\u001b[0m\u001b[0mfcpl\u001b[0m\u001b[0;34m)\u001b[0m\u001b[0;34m\u001b[0m\u001b[0m\n\u001b[1;32m    147\u001b[0m     \u001b[0;32melif\u001b[0m \u001b[0mmode\u001b[0m \u001b[0;34m==\u001b[0m \u001b[0;34m'w'\u001b[0m\u001b[0;34m:\u001b[0m\u001b[0;34m\u001b[0m\u001b[0m\n\u001b[0;32m--> 148\u001b[0;31m         \u001b[0mfid\u001b[0m \u001b[0;34m=\u001b[0m \u001b[0mh5f\u001b[0m\u001b[0;34m.\u001b[0m\u001b[0mcreate\u001b[0m\u001b[0;34m(\u001b[0m\u001b[0mname\u001b[0m\u001b[0;34m,\u001b[0m \u001b[0mh5f\u001b[0m\u001b[0;34m.\u001b[0m\u001b[0mACC_TRUNC\u001b[0m\u001b[0;34m,\u001b[0m \u001b[0mfapl\u001b[0m\u001b[0;34m=\u001b[0m\u001b[0mfapl\u001b[0m\u001b[0;34m,\u001b[0m \u001b[0mfcpl\u001b[0m\u001b[0;34m=\u001b[0m\u001b[0mfcpl\u001b[0m\u001b[0;34m)\u001b[0m\u001b[0;34m\u001b[0m\u001b[0m\n\u001b[0m\u001b[1;32m    149\u001b[0m     \u001b[0;32melif\u001b[0m \u001b[0mmode\u001b[0m \u001b[0;34m==\u001b[0m \u001b[0;34m'a'\u001b[0m\u001b[0;34m:\u001b[0m\u001b[0;34m\u001b[0m\u001b[0m\n\u001b[1;32m    150\u001b[0m         \u001b[0;31m# Open in append mode (read/write).\u001b[0m\u001b[0;34m\u001b[0m\u001b[0;34m\u001b[0m\u001b[0m\n",
      "\u001b[0;32mh5py/_objects.pyx\u001b[0m in \u001b[0;36mh5py._objects.with_phil.wrapper\u001b[0;34m()\u001b[0m\n",
      "\u001b[0;32mh5py/_objects.pyx\u001b[0m in \u001b[0;36mh5py._objects.with_phil.wrapper\u001b[0;34m()\u001b[0m\n",
      "\u001b[0;32mh5py/h5f.pyx\u001b[0m in \u001b[0;36mh5py.h5f.create\u001b[0;34m()\u001b[0m\n",
      "\u001b[0;31mOSError\u001b[0m: Unable to create file (unable to open file: name = '/Users/Tjoun/UCL/Dissertation/Motion_Prediction/src/MITMaskRCNN/Mask_RCNN/../../Data/mytestfile.hdf5', errno = 2, error message = 'No such file or directory', flags = 13, o_flags = 602)"
     ]
    }
   ],
   "source": [
    "# Load a random image from the images folder\n",
    "file_names = next(os.walk(IMAGE_DIR))[2]\n",
    "\n",
    "image = skimage.io.imread(os.path.join(IMAGE_DIR, random.choice(file_names)))\n",
    "\n",
    "# Run detection\n",
    "results = model.detect([image], verbose=0)\n",
    "\n",
    "# Visualize results\n",
    "r = results[0]\n",
    "print(image.shape)\n",
    "print(r.keys())\n",
    "#print(results)\n",
    "\n",
    "save_path = os.path.join(ROOT_DIR, \"../../Data/\")\n",
    "\n",
    "f = h5py.File(\"{}mytestfile.hdf5\".format(save_path), \"w\")\n",
    "for k,v in r.items():\n",
    "    print(k)\n",
    "    f.create_dataset(k, data = v)\n",
    "    \n",
    "#visualize.display_instances(image, r['rois'], r['masks'], r['class_ids'], \n",
    "                           # class_names, r['scores'])\n",
    "\n",
    "\n",
    "#save_instances(image,save_path, r['rois'], r['masks'], r['class_ids'], \n",
    "        #                    class_names, r['scores'])"
   ]
  },
  {
   "cell_type": "code",
   "execution_count": 32,
   "metadata": {},
   "outputs": [],
   "source": [
    "import colorsys\n",
    "def make_colormap(N, bright = True):\n",
    "        brightness = 1.0 if bright else 0.7\n",
    "        hsv = [(i / N, 1, brightness) for i in range(N)]\n",
    "        colors = list(map(lambda c: colorsys.hsv_to_rgb(*c), hsv))\n",
    "        random.shuffle(colors)\n",
    "        return colors"
   ]
  },
  {
   "cell_type": "code",
   "execution_count": 39,
   "metadata": {},
   "outputs": [],
   "source": [
    "##### VISUALISE ONE WITH ID #########\n",
    "\n",
    "\n",
    "\n",
    "save_path = os.path.join(ROOT_DIR, \"../../../Data/\")\n",
    "col = make_colormap(500)\n",
    "\n",
    "\n",
    "f = h5py.File(\"{}30SLight1_Tracked_Fewer.hdf5\".format(save_path), \"r\")\n",
    "\n",
    "for i in range(1,len(list(f.keys()))):\n",
    "    frame = \"frame{}\".format(i)\n",
    "    r = f[frame]\n",
    "    image =r['image'].value\n",
    "\n",
    "\n",
    "    #for k,v in r.items():\n",
    "      #  print(k)\n",
    "      #  f.create_dataset(k, data = v)\n",
    "\n",
    "        \n",
    "    #visualize2.save_instances(image, r['rois'].value, r['masks'].value, r['class_ids'].value, \n",
    "      #                         class_names, r['ID'].value,IDs= r['ID'].value, colormap = col )\n",
    "\n",
    "    save_path2 = os.path.join(save_path, \"FullSegmentation/30STracked/{}.jpg\".format(frame))\n",
    "    visualize2.save_instances(image,save_path2, r['rois'], r['masks'], r['class_ids'], \n",
    "                             class_names, r['ID'].value,IDs= r['ID'].value, colormap = col )"
   ]
  },
  {
   "cell_type": "code",
   "execution_count": 37,
   "metadata": {},
   "outputs": [],
   "source": [
    "f.close()"
   ]
  },
  {
   "cell_type": "code",
   "execution_count": null,
   "metadata": {},
   "outputs": [],
   "source": [
    "f = h5py.File(\"{}mytestfile.hdf5\".format(save_path), \"r\")"
   ]
  },
  {
   "cell_type": "code",
   "execution_count": null,
   "metadata": {},
   "outputs": [],
   "source": [
    "f.keys()"
   ]
  },
  {
   "cell_type": "code",
   "execution_count": null,
   "metadata": {},
   "outputs": [],
   "source": [
    "dset = f['rois']"
   ]
  },
  {
   "cell_type": "code",
   "execution_count": null,
   "metadata": {},
   "outputs": [],
   "source": [
    "dset.value\n",
    "f.close()"
   ]
  },
  {
   "cell_type": "code",
   "execution_count": 49,
   "metadata": {},
   "outputs": [
    {
     "name": "stdout",
     "output_type": "stream",
     "text": [
      "/Users/Tjoun/UCL/Dissertation/Motion_Prediction/src/MITMaskRCNN/Mask_RCNN/../../../Data/Raw/30SLight2\n"
     ]
    }
   ],
   "source": [
    "print(IMAGE_DIR)"
   ]
  },
  {
   "cell_type": "code",
   "execution_count": 50,
   "metadata": {},
   "outputs": [],
   "source": [
    "# Load a random image from the images folder\n",
    "file_names = next(os.walk(IMAGE_DIR))[2]"
   ]
  },
  {
   "cell_type": "code",
   "execution_count": 51,
   "metadata": {},
   "outputs": [
    {
     "name": "stdout",
     "output_type": "stream",
     "text": [
      "['.DS_Store', '30SLight1001.jpg', '30SLight1002.jpg', '30SLight1003.jpg', '30SLight1004.jpg', '30SLight1005.jpg', '30SLight1006.jpg', '30SLight1007.jpg', '30SLight1008.jpg', '30SLight1009.jpg', '30SLight1010.jpg', '30SLight1011.jpg', '30SLight1012.jpg', '30SLight1013.jpg', '30SLight1014.jpg', '30SLight1015.jpg', '30SLight1016.jpg', '30SLight1017.jpg', '30SLight1018.jpg', '30SLight1019.jpg', '30SLight1020.jpg', '30SLight1021.jpg', '30SLight1022.jpg', '30SLight1023.jpg', '30SLight1024.jpg', '30SLight1025.jpg', '30SLight1026.jpg', '30SLight1027.jpg', '30SLight1028.jpg', '30SLight1029.jpg', '30SLight1030.jpg', '30SLight1031.jpg', '30SLight1032.jpg', '30SLight1033.jpg', '30SLight1034.jpg', '30SLight1035.jpg', '30SLight1036.jpg', '30SLight1037.jpg', '30SLight1038.jpg', '30SLight1039.jpg', '30SLight1040.jpg', '30SLight1041.jpg', '30SLight1042.jpg', '30SLight1043.jpg', '30SLight1044.jpg', '30SLight1045.jpg', '30SLight1046.jpg', '30SLight1047.jpg', '30SLight1048.jpg', '30SLight1049.jpg', '30SLight1050.jpg', '30SLight1051.jpg', '30SLight1052.jpg', '30SLight1053.jpg', '30SLight1054.jpg', '30SLight1055.jpg', '30SLight1056.jpg', '30SLight1057.jpg', '30SLight1058.jpg', '30SLight1059.jpg', '30SLight1060.jpg', '30SLight1061.jpg', '30SLight1062.jpg', '30SLight1063.jpg', '30SLight1064.jpg', '30SLight1065.jpg', '30SLight1066.jpg', '30SLight1067.jpg', '30SLight1068.jpg', '30SLight1069.jpg', '30SLight1070.jpg', '30SLight1071.jpg', '30SLight1072.jpg', '30SLight1073.jpg', '30SLight1074.jpg', '30SLight1075.jpg', '30SLight1076.jpg', '30SLight1077.jpg', '30SLight1078.jpg', '30SLight1079.jpg', '30SLight1080.jpg', '30SLight1081.jpg', '30SLight1082.jpg', '30SLight1083.jpg', '30SLight1084.jpg', '30SLight1085.jpg', '30SLight1086.jpg', '30SLight1087.jpg', '30SLight1088.jpg', '30SLight1089.jpg', '30SLight1090.jpg', '30SLight1091.jpg', '30SLight1092.jpg', '30SLight1093.jpg', '30SLight1094.jpg', '30SLight1095.jpg', '30SLight1096.jpg', '30SLight1097.jpg', '30SLight1098.jpg', '30SLight1099.jpg', '30SLight1100.jpg', '30SLight1101.jpg', '30SLight1102.jpg', '30SLight1103.jpg', '30SLight1104.jpg', '30SLight1105.jpg', '30SLight1106.jpg', '30SLight1107.jpg', '30SLight1108.jpg', '30SLight1109.jpg', '30SLight1110.jpg', '30SLight1111.jpg', '30SLight1112.jpg', '30SLight1113.jpg', '30SLight1114.jpg', '30SLight1115.jpg', '30SLight1116.jpg', '30SLight1117.jpg', '30SLight1118.jpg', '30SLight1119.jpg', '30SLight1120.jpg', '30SLight1121.jpg', '30SLight1122.jpg', '30SLight1123.jpg', '30SLight1124.jpg', '30SLight1125.jpg', '30SLight1126.jpg', '30SLight1127.jpg', '30SLight1128.jpg', '30SLight1129.jpg', '30SLight1130.jpg', '30SLight1131.jpg', '30SLight1132.jpg', '30SLight1133.jpg', '30SLight1134.jpg', '30SLight1135.jpg', '30SLight1136.jpg', '30SLight1137.jpg', '30SLight1138.jpg', '30SLight1139.jpg', '30SLight1140.jpg', '30SLight1141.jpg', '30SLight1142.jpg', '30SLight1143.jpg', '30SLight1144.jpg', '30SLight1145.jpg', '30SLight1146.jpg', '30SLight1147.jpg', '30SLight1148.jpg', '30SLight1149.jpg', '30SLight1150.jpg', '30SLight1151.jpg', '30SLight1152.jpg', '30SLight1153.jpg', '30SLight1154.jpg', '30SLight1155.jpg', '30SLight1156.jpg', '30SLight1157.jpg', '30SLight1158.jpg', '30SLight1159.jpg', '30SLight1160.jpg', '30SLight1161.jpg', '30SLight1162.jpg', '30SLight1163.jpg', '30SLight1164.jpg', '30SLight1165.jpg', '30SLight1166.jpg', '30SLight1167.jpg', '30SLight1168.jpg', '30SLight1169.jpg', '30SLight1170.jpg', '30SLight1171.jpg', '30SLight1172.jpg', '30SLight1173.jpg', '30SLight1174.jpg', '30SLight1175.jpg', '30SLight1176.jpg', '30SLight1177.jpg', '30SLight1178.jpg', '30SLight1179.jpg', '30SLight1180.jpg', '30SLight1181.jpg', '30SLight1182.jpg', '30SLight1183.jpg', '30SLight1184.jpg', '30SLight1185.jpg', '30SLight1186.jpg', '30SLight1187.jpg', '30SLight1188.jpg', '30SLight1189.jpg', '30SLight1190.jpg', '30SLight1191.jpg', '30SLight1192.jpg', '30SLight1193.jpg', '30SLight1194.jpg', '30SLight1195.jpg', '30SLight1196.jpg', '30SLight1197.jpg', '30SLight1198.jpg', '30SLight1199.jpg', '30SLight1200.jpg', '30SLight1201.jpg', '30SLight1202.jpg', '30SLight1203.jpg', '30SLight1204.jpg', '30SLight1205.jpg', '30SLight1206.jpg', '30SLight1207.jpg', '30SLight1208.jpg', '30SLight1209.jpg', '30SLight1210.jpg', '30SLight1211.jpg', '30SLight1212.jpg', '30SLight1213.jpg', '30SLight1214.jpg', '30SLight1215.jpg', '30SLight1216.jpg', '30SLight1217.jpg', '30SLight1218.jpg', '30SLight1219.jpg', '30SLight1220.jpg', '30SLight1221.jpg', '30SLight1222.jpg', '30SLight1223.jpg', '30SLight1224.jpg', '30SLight1225.jpg', '30SLight1226.jpg', '30SLight1227.jpg', '30SLight1228.jpg', '30SLight1229.jpg', '30SLight1230.jpg', '30SLight1231.jpg', '30SLight1232.jpg', '30SLight1233.jpg', '30SLight1234.jpg', '30SLight1235.jpg', '30SLight1236.jpg', '30SLight1237.jpg', '30SLight1238.jpg', '30SLight1239.jpg', '30SLight1240.jpg', '30SLight1241.jpg', '30SLight1242.jpg', '30SLight1243.jpg', '30SLight1244.jpg', '30SLight1245.jpg', '30SLight1246.jpg', '30SLight1247.jpg', '30SLight1248.jpg', '30SLight1249.jpg', '30SLight1250.jpg', '30SLight1251.jpg', '30SLight1252.jpg', '30SLight1253.jpg', '30SLight1254.jpg', '30SLight1255.jpg', '30SLight1256.jpg', '30SLight1257.jpg', '30SLight1258.jpg', '30SLight1259.jpg', '30SLight1260.jpg', '30SLight1261.jpg', '30SLight1262.jpg', '30SLight1263.jpg', '30SLight1264.jpg', '30SLight1265.jpg', '30SLight1266.jpg', '30SLight1267.jpg', '30SLight1268.jpg', '30SLight1269.jpg', '30SLight1270.jpg', '30SLight1271.jpg', '30SLight1272.jpg', '30SLight1273.jpg', '30SLight1274.jpg', '30SLight1275.jpg', '30SLight1276.jpg', '30SLight1277.jpg', '30SLight1278.jpg', '30SLight1279.jpg']\n"
     ]
    }
   ],
   "source": [
    "print(file_names)"
   ]
  },
  {
   "cell_type": "code",
   "execution_count": null,
   "metadata": {},
   "outputs": [],
   "source": [
    "for file_name in file_names :\n",
    "    print(file_name)"
   ]
  },
  {
   "cell_type": "code",
   "execution_count": 41,
   "metadata": {},
   "outputs": [
    {
     "name": "stdout",
     "output_type": "stream",
     "text": [
      "(540, 930, 3)\n"
     ]
    }
   ],
   "source": [
    "N_FRAMES = len(file_names)\n",
    "IM_DIM = skimage.io.imread(os.path.join(IMAGE_DIR, file_names[0])).shape\n",
    "print(IM_DIM)"
   ]
  },
  {
   "cell_type": "code",
   "execution_count": 55,
   "metadata": {
    "scrolled": true
   },
   "outputs": [
    {
     "name": "stderr",
     "output_type": "stream",
     "text": [
      "/Library/Frameworks/Python.framework/Versions/3.6/lib/python3.6/site-packages/skimage/transform/_warps.py:110: UserWarning: Anti-aliasing will be enabled by default in skimage 0.15 to avoid aliasing artifacts when down-sampling images.\n",
      "  warn(\"Anti-aliasing will be enabled by default in skimage 0.15 to \"\n"
     ]
    },
    {
     "name": "stdout",
     "output_type": "stream",
     "text": [
      "20\n",
      "40\n",
      "60\n",
      "80\n",
      "100\n",
      "120\n",
      "140\n",
      "160\n",
      "180\n",
      "200\n",
      "220\n",
      "240\n",
      "260\n",
      "280\n"
     ]
    }
   ],
   "source": [
    "i=1\n",
    "\n",
    "\n",
    "#/\n",
    "##Class IDs\n",
    "##Frame\n",
    "###Image\n",
    "###r\n",
    "#class_names_arr = np.array(class_names)\n",
    "#print(type(class_names_arr))\n",
    "#print(class_names_arr)\n",
    "save_path = os.path.join(ROOT_DIR, \"../../../Data/\")\n",
    "f = h5py.File(\"{}30SLight2.hdf5\".format(save_path), \"w\")\n",
    "f.create_dataset(\"class_names\", data = [np.string_(j) for j in class_names])\n",
    "\n",
    "\n",
    "for file_name in file_names:\n",
    "    if(file_name ==\".DS_Store\"):\n",
    "        continue\n",
    "    image = skimage.io.imread(os.path.join(IMAGE_DIR, file_name))\n",
    "    f.create_dataset(\"frame{}/image\".format(i), data = image)\n",
    "    # Run detection\n",
    "    results = model.detect([image], verbose=0)\n",
    "\n",
    "    # Visualize results\n",
    "    r = results[0]\n",
    "\n",
    "    for k,v in r.items():\n",
    "       \n",
    "        f.create_dataset(\"frame{}/{}\".format(i,k), data = v)\n",
    "    \n",
    "    save_path = os.path.join(ROOT_DIR, \"../../../Data/FullSegmentation/30SLight2/{}\".format(file_name))\n",
    "    visualize2.save_instances(image,save_path, r['rois'], r['masks'], r['class_ids'], \n",
    "                        class_names, r['scores'])\n",
    "    \n",
    "    i+=1\n",
    "    if(i%20 == 0 ):\n",
    "        print(i)"
   ]
  },
  {
   "cell_type": "code",
   "execution_count": 52,
   "metadata": {},
   "outputs": [],
   "source": [
    "f.close()"
   ]
  },
  {
   "cell_type": "code",
   "execution_count": null,
   "metadata": {},
   "outputs": [],
   "source": [
    "f.keys()"
   ]
  },
  {
   "cell_type": "code",
   "execution_count": null,
   "metadata": {},
   "outputs": [],
   "source": [
    "\n",
    "print(np.shape(r['rois']))\n",
    "print(np.shape(r['class_ids']))\n",
    "print(np.shape(r['scores']))\n",
    "print(np.shape(r['masks']))\n",
    "print(r)"
   ]
  },
  {
   "cell_type": "code",
   "execution_count": null,
   "metadata": {},
   "outputs": [],
   "source": []
  }
 ],
 "metadata": {
  "kernelspec": {
   "display_name": "dissertation_env",
   "language": "python",
   "name": "dissertation_env"
  },
  "language_info": {
   "codemirror_mode": {
    "name": "ipython",
    "version": 3
   },
   "file_extension": ".py",
   "mimetype": "text/x-python",
   "name": "python",
   "nbconvert_exporter": "python",
   "pygments_lexer": "ipython3",
   "version": "3.6.1"
  }
 },
 "nbformat": 4,
 "nbformat_minor": 2
}
